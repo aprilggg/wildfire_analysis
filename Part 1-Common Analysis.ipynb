{
 "cells": [
  {
   "cell_type": "markdown",
   "metadata": {
    "tags": []
   },
   "source": [
    "# Common Analysis\n",
    "The aim of this analysis is to comprehensively assess the implications of wildfires on Lawton, OK. The notebook incorporates several key stages, including the acquisition of wildfire data from the USGS website, the computation of the distances between each wildfire within a 1250-mile radius of the city, and the generation of a comprehensive smoke estimation for the last 50 years. Subsequently, the smoke estimation will be compared and analyzed alongside the annual Air Quality Index (AQI) data sourced from a separate notebook. Finally, the analysis will culminate in the development of a robust prediction model designed to forecast the future smoke impact (smoke estimate) for the upcoming 25 years.\n",
    "\n",
    "### License\n",
    "This code example was developed by Dr. David W. McDonald for use in DATA 512, a course in the UW MS Data Science degree program. This code is provided under the [Creative Commons](https://creativecommons.org) [CC-BY license](https://creativecommons.org/licenses/by/4.0/). Revision 1.0 - August 13, 2023"
   ]
  },
  {
   "cell_type": "markdown",
   "metadata": {},
   "source": [
    "### Preliminaries\n",
    "First we start with some imports and some constant definitions."
   ]
  },
  {
   "cell_type": "code",
   "execution_count": 3,
   "metadata": {
    "scrolled": false,
    "tags": []
   },
   "outputs": [],
   "source": [
    "#\n",
    "#    IMPORTS\n",
    "# \n",
    "\n",
    "import os, json, time\n",
    "#\n",
    "#    The module pyproj is a standard module that can be installed using pip or your other favorite\n",
    "#    installation tool. This module provides tools to convert between different geodesic coordinate systems\n",
    "#    and for calculating distances between points (coordinates) in a specific geodesic system.\n",
    "#\n",
    "from pyproj import Transformer, Geod\n",
    "#\n",
    "#    The 'wildfire' module is a user module. This module is available from the course website. The module\n",
    "#    includes one object, a Reader, that can be used to read the GeoJSON files associated with the\n",
    "#    wildefire dataset. The module also contains a sample datafile that is GeoJSON compliant and that\n",
    "#    contains a small number of California wildfires extracted from the main wildfire dataset.\n",
    "#    \n",
    "from wildfire.Reader import Reader as WFReader\n",
    "#\n",
    "#    There is a GeoJSON reader that you might try if you wanted to read the data. It has its own quirks.\n",
    "#    There will be an example below that reads the sample file \"Wildfire_short_sample.json\"\n",
    "#    \n",
    "import geojson\n",
    "\n",
    "import pandas as pd\n",
    "\n",
    "import csv"
   ]
  },
  {
   "cell_type": "code",
   "execution_count": 2,
   "metadata": {
    "scrolled": false
   },
   "outputs": [],
   "source": [
    "#\n",
    "#    CONSTANTS\n",
    "#\n",
    "FILENAME = \"C:/Users/april/Documents/Documents/MSDS/DATA512/Project/USGS_Wildland_Fire_Combined_Dataset.json\"\n",
    "\n",
    "CITY_LOCATIONS = {\n",
    "    'Lawton' :     {'city'   : 'Lawton',\n",
    "                       'latlon' : [34.6036, -98.3959] }}\n"
   ]
  },
  {
   "cell_type": "markdown",
   "metadata": {},
   "source": [
    "## Load the wildfire data using the geojson module\n",
    "\n",
    "In this example we use the GeoJSON module ([documentation](https://pypi.org/project/geojson/), [GitHub repo](https://github.com/jazzband/geojson)) to load the sample file. This module works mostly the way you would expect. GeoJSON is mostly just JSON, so actually, you don't even really need to use the GeoJSON module. However, that module will do some conversion of Geo type things to something useful. However, this example, and the examples that follow, do not rely on specific Geo features from geojson.\n"
   ]
  },
  {
   "cell_type": "code",
   "execution_count": 3,
   "metadata": {
    "scrolled": false
   },
   "outputs": [
    {
     "name": "stdout",
     "output_type": "stream",
     "text": [
      "Attempting to open 'C:/Users/april/Documents/Documents/MSDS/DATA512/Project/USGS_Wildland_Fire_Combined_Dataset.json'\n",
      "Using GeoJSON module to load sample file 'C:/Users/april/Documents/Documents/MSDS/DATA512/Project/USGS_Wildland_Fire_Combined_Dataset.json'\n",
      "The loaded JSON dictionary has the following keys:\n",
      "['displayFieldName', 'fieldAliases', 'geometryType', 'spatialReference', 'fields', 'features']\n",
      "\n"
     ]
    }
   ],
   "source": [
    "#\n",
    "#    Open a file, load it with the geojson loader\n",
    "\n",
    "print(f\"Attempting to open '{FILENAME}'\")\n",
    "geojson_file = open(FILENAME,\"r\")\n",
    "print(f\"Using GeoJSON module to load sample file '{FILENAME}'\")\n",
    "gj_data = geojson.load(geojson_file)\n",
    "geojson_file.close()\n",
    "#\n",
    "#    Print the keys from the object\n",
    "#\n",
    "gj_keys = list(gj_data.keys())\n",
    "print(\"The loaded JSON dictionary has the following keys:\")\n",
    "print(gj_keys)\n",
    "print()\n"
   ]
  },
  {
   "cell_type": "code",
   "execution_count": 43,
   "metadata": {},
   "outputs": [
    {
     "data": {
      "text/html": [
       "<div>\n",
       "<style scoped>\n",
       "    .dataframe tbody tr th:only-of-type {\n",
       "        vertical-align: middle;\n",
       "    }\n",
       "\n",
       "    .dataframe tbody tr th {\n",
       "        vertical-align: top;\n",
       "    }\n",
       "\n",
       "    .dataframe thead th {\n",
       "        text-align: right;\n",
       "    }\n",
       "</style>\n",
       "<table border=\"1\" class=\"dataframe\">\n",
       "  <thead>\n",
       "    <tr style=\"text-align: right;\">\n",
       "      <th></th>\n",
       "      <th>attributes</th>\n",
       "      <th>geometry</th>\n",
       "    </tr>\n",
       "  </thead>\n",
       "  <tbody>\n",
       "    <tr>\n",
       "      <th>0</th>\n",
       "      <td>{'OBJECTID': 14600, 'USGS_Assigned_ID': 14600,...</td>\n",
       "      <td>{'rings': [[[-2028828.8994999994, -380860.0911...</td>\n",
       "    </tr>\n",
       "    <tr>\n",
       "      <th>1</th>\n",
       "      <td>{'OBJECTID': 14601, 'USGS_Assigned_ID': 14601,...</td>\n",
       "      <td>{'rings': [[[-2158514.0478000008, 147653.01229...</td>\n",
       "    </tr>\n",
       "    <tr>\n",
       "      <th>2</th>\n",
       "      <td>{'OBJECTID': 14602, 'USGS_Assigned_ID': 14602,...</td>\n",
       "      <td>{'rings': [[[-1864898.1349, -453547.7751000002...</td>\n",
       "    </tr>\n",
       "    <tr>\n",
       "      <th>3</th>\n",
       "      <td>{'OBJECTID': 14603, 'USGS_Assigned_ID': 14603,...</td>\n",
       "      <td>{'rings': [[[-2116931.482000001, 378000.057000...</td>\n",
       "    </tr>\n",
       "    <tr>\n",
       "      <th>4</th>\n",
       "      <td>{'OBJECTID': 14604, 'USGS_Assigned_ID': 14604,...</td>\n",
       "      <td>{'rings': [[[-2225865.2282999996, 369076.04010...</td>\n",
       "    </tr>\n",
       "  </tbody>\n",
       "</table>\n",
       "</div>"
      ],
      "text/plain": [
       "                                          attributes  \\\n",
       "0  {'OBJECTID': 14600, 'USGS_Assigned_ID': 14600,...   \n",
       "1  {'OBJECTID': 14601, 'USGS_Assigned_ID': 14601,...   \n",
       "2  {'OBJECTID': 14602, 'USGS_Assigned_ID': 14602,...   \n",
       "3  {'OBJECTID': 14603, 'USGS_Assigned_ID': 14603,...   \n",
       "4  {'OBJECTID': 14604, 'USGS_Assigned_ID': 14604,...   \n",
       "\n",
       "                                            geometry  \n",
       "0  {'rings': [[[-2028828.8994999994, -380860.0911...  \n",
       "1  {'rings': [[[-2158514.0478000008, 147653.01229...  \n",
       "2  {'rings': [[[-1864898.1349, -453547.7751000002...  \n",
       "3  {'rings': [[[-2116931.482000001, 378000.057000...  \n",
       "4  {'rings': [[[-2225865.2282999996, 369076.04010...  "
      ]
     },
     "execution_count": 43,
     "metadata": {},
     "output_type": "execute_result"
    }
   ],
   "source": [
    "filtered_features = [feature for feature in gj_data['features'] if feature['attributes']['Fire_Year'] > 1963]\n",
    "\n",
    "df = pd.DataFrame(filtered_features)\n",
    "\n",
    "df.head()"
   ]
  },
  {
   "cell_type": "code",
   "execution_count": 74,
   "metadata": {},
   "outputs": [
    {
     "name": "stdout",
     "output_type": "stream",
     "text": [
      "117191\n"
     ]
    }
   ],
   "source": [
    "gj_feature = df['attributes']\n",
    "print(len(gj_feature))"
   ]
  },
  {
   "cell_type": "code",
   "execution_count": 67,
   "metadata": {},
   "outputs": [
    {
     "name": "stdout",
     "output_type": "stream",
     "text": [
      "117191\n",
      "[91887, 92506, 92921, 93713, 94058, 94179, 94692, 94697, 95693, 95947, 96020, 96048, 96087, 96591, 96604, 97911, 98256, 98517, 99368, 101864, 101899, 102033, 102264, 102494, 102713, 102960, 103025, 103292, 104546, 104813, 106043, 106817, 107328, 108027, 109774]\n"
     ]
    }
   ],
   "source": [
    "# Get the geometry for the feature we pulled from the feature_list\n",
    "gj_geometry = df['geometry']\n",
    "# The largest shape (ring) is supposed to be item zero in the list of 'rings'\n",
    "gj_bigest_ring = [] \n",
    "for i in range(0,len(gj_geometry)):\n",
    "    if 'rings' in gj_geometry[i]:\n",
    "        ring =  gj_geometry[i]['rings'][0]\n",
    "    else:\n",
    "        ring = 'NULL'\n",
    "    gj_bigest_ring.append(ring)\n",
    "    \n",
    "print(len(gj_bigest_ring))\n",
    "\n",
    "null_indices = [index for index, value in enumerate(gj_bigest_ring) if value == \"NULL\"]\n",
    "print(null_indices)"
   ]
  },
  {
   "cell_type": "code",
   "execution_count": 75,
   "metadata": {},
   "outputs": [
    {
     "name": "stdout",
     "output_type": "stream",
     "text": [
      "117156\n",
      "117156\n"
     ]
    }
   ],
   "source": [
    "# Removing NULL values for curvedRings in geometry\n",
    "gj_bigest_ring = [item for item in gj_bigest_ring if item != \"NULL\"]\n",
    "\n",
    "print(len(gj_bigest_ring))\n",
    "\n",
    "#Remving corresponding values in gj_feature\n",
    "indices_to_drop = [91887, 92506, 92921, 93713, 94058, 94179, 94692, 94697,\n",
    "                   95693, 95947, 96020, 96048, 96087, 96591, 96604, 97911, \n",
    "                   98256, 98517, 99368, 101864, 101899, 102033, 102264, 102494, \n",
    "                   102713, 102960, 103025, 103292, 104546, 104813, 106043, 106817, 107328, 108027, 109774]\n",
    "\n",
    "indices_to_drop.sort(reverse=True)\n",
    "\n",
    "for index in indices_to_drop:\n",
    "    del gj_feature[index]\n",
    "\n",
    "print(len(gj_feature))\n"
   ]
  },
  {
   "cell_type": "markdown",
   "metadata": {},
   "source": [
    "##  Convert points between geodetic coordinate systems\n",
    "\n",
    "Following code will take the geometry of a fire feature, extract the largest ring (i.e., the largest boundary of the fire) and convert all of the points in that ring from the ESRI:102008 coordinate system to EPSG:4326 coordinates.\n"
   ]
  },
  {
   "cell_type": "code",
   "execution_count": 7,
   "metadata": {
    "scrolled": false
   },
   "outputs": [],
   "source": [
    "#\n",
    "#    Transform feature geometry data\n",
    "#\n",
    "#    The function takes one parameter, a list of ESRI:102008 coordinates that will be transformed to EPSG:4326\n",
    "#    The function returns a list of coordinates in EPSG:4326\n",
    "def convert_ring_to_epsg4326(ring_data=None):\n",
    "    converted_ring = list()\n",
    "    #\n",
    "    # We use a pyproj transformer that converts from ESRI:102008 to EPSG:4326 to transform the list of coordinates\n",
    "    to_epsg4326 = Transformer.from_crs(\"ESRI:102008\",\"EPSG:4326\")\n",
    "    # We'll run through the list transforming each ESRI:102008 x,y coordinate into a decimal degree lat,lon\n",
    "    for coord in ring_data:\n",
    "        lat,lon = to_epsg4326.transform(coord[0],coord[1])\n",
    "        new_coord = lat,lon\n",
    "        converted_ring.append(new_coord)\n",
    "    return converted_ring"
   ]
  },
  {
   "cell_type": "code",
   "execution_count": 76,
   "metadata": {
    "scrolled": false
   },
   "outputs": [
    {
     "name": "stderr",
     "output_type": "stream",
     "text": [
      "Converting: 100%|████████████████████████████████████████████████████████| 117156/117156 [1:36:00<00:00, 20.34 rings/s]\n"
     ]
    }
   ],
   "source": [
    "#\n",
    "#   Convert one ring from the default to EPSG\n",
    "        \n",
    "from tqdm import tqdm\n",
    "\n",
    "ring_in_epsg4326_list = []\n",
    "    \n",
    "for ring in tqdm(gj_bigest_ring, desc=\"Converting\", unit=\" rings\"):\n",
    "    ring_in_epsg4326 = convert_ring_to_epsg4326(ring) \n",
    "    ring_in_epsg4326_list.append(ring_in_epsg4326)\n",
    "\n"
   ]
  },
  {
   "cell_type": "code",
   "execution_count": 84,
   "metadata": {},
   "outputs": [],
   "source": [
    "csv_file = 'converted_ring.csv'\n",
    "\n",
    "with open(csv_file, mode='w', newline='') as file:\n",
    "    writer = csv.writer(file)\n",
    "    writer.writerows(ring_in_epsg4326_list)"
   ]
  },
  {
   "cell_type": "markdown",
   "metadata": {},
   "source": [
    "## Compute distance between a place and a wildfire\n",
    "\n",
    "Calculates the average distance of all perimeter points to the city (place) and returns that average as the distance. This is not quite what the centroid would be, but it is probably fairly close.\n"
   ]
  },
  {
   "cell_type": "code",
   "execution_count": 101,
   "metadata": {
    "scrolled": false
   },
   "outputs": [],
   "source": [
    "#    The function takes two parameters\n",
    "#        A place - which is coordinate point (list or tuple with two items, (lat,lon) in decimal degrees EPSG:4326\n",
    "#        Ring_data - a list of decimal degree coordinates for the fire boundary\n",
    "#\n",
    "#    The function returns the average miles from boundary to the place\n",
    "#\n",
    "def average_distance_from_place_to_fire_perimeter(place=None,ring_data=None):\n",
    "    # convert the ring data to the right coordinate system\n",
    "    ring = ring_data  \n",
    "    # create a epsg4326 compliant object - which is what the WGS84 ellipsoid is\n",
    "    geodcalc = Geod(ellps='WGS84')\n",
    "    # create a list to store our results\n",
    "    distances_in_meters = list()\n",
    "    # run through each point in the converted ring data\n",
    "    for point in ring:\n",
    "        # calculate the distance\n",
    "        d = geodcalc.inv(place[1],place[0],point[1],point[0])\n",
    "        distances_in_meters.append(d[2])\n",
    "   \n",
    "    # convert meters to miles\n",
    "    distances_in_miles = [meters*0.00062137 for meters in distances_in_meters]\n",
    "    # the esri polygon shape (the ring) requires that the first and last coordinates be identical to 'close the region\n",
    "    # we remove one of them so that we don't bias our average by having two of the same point\n",
    "    distances_in_miles_no_dup = distances_in_miles[1:]\n",
    "    # now, average miles\n",
    "    average = sum(distances_in_miles_no_dup)/len(distances_in_miles_no_dup)\n",
    "    return average\n",
    "\n"
   ]
  },
  {
   "cell_type": "code",
   "execution_count": 106,
   "metadata": {
    "scrolled": true
   },
   "outputs": [
    {
     "name": "stderr",
     "output_type": "stream",
     "text": [
      "100%|████████████████████████████████████████████████████████████████████████| 117156/117156 [01:10<00:00, 1661.73it/s]\n"
     ]
    }
   ],
   "source": [
    "#    Get a city from our CITY_LOCATIONS constant as our starting position\n",
    "place = [34.6036, -98.3959]\n",
    "\n",
    "distances = []\n",
    "    \n",
    "for i in tqdm(range(0,len(ring_in_epsg4326_list))):\n",
    "    ave_distance = average_distance_from_place_to_fire_perimeter(place,ring_in_epsg4326_list[i])\n",
    "    distances.append(ave_distance)\n"
   ]
  },
  {
   "cell_type": "code",
   "execution_count": 112,
   "metadata": {},
   "outputs": [
    {
     "name": "stdout",
     "output_type": "stream",
     "text": [
      "   OBJECTID  USGS_Assigned_ID Assigned_Fire_Type  Fire_Year  \\\n",
      "0     14600             14600           Wildfire       1964   \n",
      "1     14601             14601           Wildfire       1964   \n",
      "2     14602             14602           Wildfire       1964   \n",
      "3     14603             14603           Wildfire       1964   \n",
      "4     14604             14604           Wildfire       1964   \n",
      "\n",
      "   Fire_Polygon_Tier Fire_Attribute_Tiers     GIS_Acres  GIS_Hectares  \\\n",
      "0                  1         1 (1), 3 (3)  65338.877636  26441.705659   \n",
      "1                  1  1 (2), 3 (3), 5 (1)  55960.694158  22646.489455   \n",
      "2                  1         1 (2), 3 (3)  19218.105903   7777.291530   \n",
      "3                  1         1 (2), 3 (3)  18712.494746   7572.677954   \n",
      "4                  1         1 (4), 3 (6)  16887.001024   6833.926855   \n",
      "\n",
      "                                     Source_Datasets  \\\n",
      "0  Comb_National_NIFC_Interagency_Fire_Perimeter_...   \n",
      "1  Comb_National_NIFC_Interagency_Fire_Perimeter_...   \n",
      "2  Comb_National_NIFC_Interagency_Fire_Perimeter_...   \n",
      "3  Comb_National_NIFC_Interagency_Fire_Perimeter_...   \n",
      "4  Comb_National_NIFC_Interagency_Fire_Perimeter_...   \n",
      "\n",
      "                   Listed_Fire_Types  ... Processing_Notes  \\\n",
      "0  Wildfire (3), Likely Wildfire (1)  ...                    \n",
      "1  Wildfire (5), Likely Wildfire (1)  ...                    \n",
      "2  Wildfire (4), Likely Wildfire (1)  ...                    \n",
      "3  Wildfire (4), Likely Wildfire (1)  ...                    \n",
      "4  Wildfire (8), Likely Wildfire (2)  ...                    \n",
      "\n",
      "                                     Wildfire_Notice  \\\n",
      "0  Wildfire mapping prior to 1984 was inconsisten...   \n",
      "1  Wildfire mapping prior to 1984 was inconsisten...   \n",
      "2  Wildfire mapping prior to 1984 was inconsisten...   \n",
      "3  Wildfire mapping prior to 1984 was inconsisten...   \n",
      "4  Wildfire mapping prior to 1984 was inconsisten...   \n",
      "\n",
      "                              Prescribed_Burn_Notice Wildfire_and_Rx_Flag  \\\n",
      "0  Prescribed fire data in this dataset represent...                 None   \n",
      "1  Prescribed fire data in this dataset represent...                 None   \n",
      "2  Prescribed fire data in this dataset represent...                 None   \n",
      "3  Prescribed fire data in this dataset represent...                 None   \n",
      "4  Prescribed fire data in this dataset represent...                 None   \n",
      "\n",
      "  Overlap_Within_1_or_2_Flag Circleness_Scale Circle_Flag  \\\n",
      "0                       None         0.263753         NaN   \n",
      "1                       None         0.224592         NaN   \n",
      "2                       None         0.138493         NaN   \n",
      "3                       None         0.391960         NaN   \n",
      "4                       None         0.392989         NaN   \n",
      "\n",
      "  Exclude_From_Summary_Rasters   Shape_Length    Shape_Area  \n",
      "0                           No  112240.801495  2.644171e+08  \n",
      "1                           No  112566.141954  2.264649e+08  \n",
      "2                           No   84004.974692  7.777292e+07  \n",
      "3                           No   49273.004457  7.572678e+07  \n",
      "4                           No   46746.577459  6.833927e+07  \n",
      "\n",
      "[5 rows x 30 columns]\n"
     ]
    }
   ],
   "source": [
    "data = [item for item in gj_feature]\n",
    "df_attribute = pd.DataFrame(data)\n",
    "print(df_attribute.head())"
   ]
  },
  {
   "cell_type": "code",
   "execution_count": 113,
   "metadata": {},
   "outputs": [],
   "source": [
    "columns_to_keep = ['Fire_Year', 'GIS_Acres']  \n",
    "\n",
    "df_attribute = df_attribute[columns_to_keep]"
   ]
  },
  {
   "cell_type": "code",
   "execution_count": 114,
   "metadata": {},
   "outputs": [
    {
     "data": {
      "text/plain": [
       "(117156, 2)"
      ]
     },
     "execution_count": 114,
     "metadata": {},
     "output_type": "execute_result"
    }
   ],
   "source": [
    "df_attribute.shape"
   ]
  },
  {
   "cell_type": "code",
   "execution_count": 119,
   "metadata": {},
   "outputs": [],
   "source": [
    "df_distance = pd.DataFrame(distances, columns=['Distance'])\n",
    "\n",
    "combined_df = pd.concat([df_attribute, df_distance], axis=1)"
   ]
  },
  {
   "cell_type": "code",
   "execution_count": 120,
   "metadata": {},
   "outputs": [],
   "source": [
    "final_df = combined_df[combined_df['Distance'] <= 1250]"
   ]
  },
  {
   "cell_type": "code",
   "execution_count": 123,
   "metadata": {},
   "outputs": [
    {
     "name": "stdout",
     "output_type": "stream",
     "text": [
      "(88717, 3)\n"
     ]
    },
    {
     "data": {
      "text/html": [
       "<div>\n",
       "<style scoped>\n",
       "    .dataframe tbody tr th:only-of-type {\n",
       "        vertical-align: middle;\n",
       "    }\n",
       "\n",
       "    .dataframe tbody tr th {\n",
       "        vertical-align: top;\n",
       "    }\n",
       "\n",
       "    .dataframe thead th {\n",
       "        text-align: right;\n",
       "    }\n",
       "</style>\n",
       "<table border=\"1\" class=\"dataframe\">\n",
       "  <thead>\n",
       "    <tr style=\"text-align: right;\">\n",
       "      <th></th>\n",
       "      <th>Fire_Year</th>\n",
       "      <th>GIS_Acres</th>\n",
       "      <th>Distance</th>\n",
       "    </tr>\n",
       "  </thead>\n",
       "  <tbody>\n",
       "    <tr>\n",
       "      <th>0</th>\n",
       "      <td>1964</td>\n",
       "      <td>65338.877636</td>\n",
       "      <td>1209.999515</td>\n",
       "    </tr>\n",
       "    <tr>\n",
       "      <th>2</th>\n",
       "      <td>1964</td>\n",
       "      <td>19218.105903</td>\n",
       "      <td>1085.994951</td>\n",
       "    </tr>\n",
       "    <tr>\n",
       "      <th>5</th>\n",
       "      <td>1964</td>\n",
       "      <td>14101.443662</td>\n",
       "      <td>675.192860</td>\n",
       "    </tr>\n",
       "    <tr>\n",
       "      <th>6</th>\n",
       "      <td>1964</td>\n",
       "      <td>11365.328284</td>\n",
       "      <td>1142.017477</td>\n",
       "    </tr>\n",
       "    <tr>\n",
       "      <th>7</th>\n",
       "      <td>1964</td>\n",
       "      <td>11131.171732</td>\n",
       "      <td>1063.369261</td>\n",
       "    </tr>\n",
       "  </tbody>\n",
       "</table>\n",
       "</div>"
      ],
      "text/plain": [
       "   Fire_Year     GIS_Acres     Distance\n",
       "0       1964  65338.877636  1209.999515\n",
       "2       1964  19218.105903  1085.994951\n",
       "5       1964  14101.443662   675.192860\n",
       "6       1964  11365.328284  1142.017477\n",
       "7       1964  11131.171732  1063.369261"
      ]
     },
     "execution_count": 123,
     "metadata": {},
     "output_type": "execute_result"
    }
   ],
   "source": [
    "print(final_df.shape)\n",
    "final_df.head()"
   ]
  },
  {
   "cell_type": "code",
   "execution_count": 126,
   "metadata": {},
   "outputs": [],
   "source": [
    "final_df.to_csv('wild_fire_data.csv', index=False)"
   ]
  },
  {
   "cell_type": "markdown",
   "metadata": {},
   "source": [
    "## Create fire smoke estimates"
   ]
  },
  {
   "cell_type": "code",
   "execution_count": 4,
   "metadata": {},
   "outputs": [],
   "source": [
    "smoke_est_df=pd.read_csv('wild_fire_data.csv')"
   ]
  },
  {
   "cell_type": "markdown",
   "metadata": {},
   "source": [
    "The smoke estimate considers factors such as distance, acres burned, and the year of occurrence. Notably, a larger number of acres burned contributes to an increase in the smoke estimate score, while greater distances lead to a decrease in the smoke estimate score. Additionally, the estimate reduces the smoke estimate score for wildfires that occurred a long time ago."
   ]
  },
  {
   "cell_type": "code",
   "execution_count": 5,
   "metadata": {},
   "outputs": [
    {
     "data": {
      "text/html": [
       "<div>\n",
       "<style scoped>\n",
       "    .dataframe tbody tr th:only-of-type {\n",
       "        vertical-align: middle;\n",
       "    }\n",
       "\n",
       "    .dataframe tbody tr th {\n",
       "        vertical-align: top;\n",
       "    }\n",
       "\n",
       "    .dataframe thead th {\n",
       "        text-align: right;\n",
       "    }\n",
       "</style>\n",
       "<table border=\"1\" class=\"dataframe\">\n",
       "  <thead>\n",
       "    <tr style=\"text-align: right;\">\n",
       "      <th></th>\n",
       "      <th>Fire_Year</th>\n",
       "      <th>GIS_Acres</th>\n",
       "      <th>Distance</th>\n",
       "      <th>smoke est</th>\n",
       "    </tr>\n",
       "  </thead>\n",
       "  <tbody>\n",
       "    <tr>\n",
       "      <th>88707</th>\n",
       "      <td>2020</td>\n",
       "      <td>41.871856</td>\n",
       "      <td>1247.496900</td>\n",
       "      <td>-662.812522</td>\n",
       "    </tr>\n",
       "    <tr>\n",
       "      <th>88708</th>\n",
       "      <td>2020</td>\n",
       "      <td>24.718981</td>\n",
       "      <td>906.982697</td>\n",
       "      <td>-501.131858</td>\n",
       "    </tr>\n",
       "    <tr>\n",
       "      <th>88709</th>\n",
       "      <td>2020</td>\n",
       "      <td>21.264195</td>\n",
       "      <td>1247.131201</td>\n",
       "      <td>-672.933503</td>\n",
       "    </tr>\n",
       "    <tr>\n",
       "      <th>88710</th>\n",
       "      <td>2020</td>\n",
       "      <td>20.327632</td>\n",
       "      <td>1230.053129</td>\n",
       "      <td>-664.862748</td>\n",
       "    </tr>\n",
       "    <tr>\n",
       "      <th>88711</th>\n",
       "      <td>2020</td>\n",
       "      <td>16.737098</td>\n",
       "      <td>1235.352392</td>\n",
       "      <td>-669.307647</td>\n",
       "    </tr>\n",
       "    <tr>\n",
       "      <th>88712</th>\n",
       "      <td>2020</td>\n",
       "      <td>60.879054</td>\n",
       "      <td>1231.107734</td>\n",
       "      <td>-645.114340</td>\n",
       "    </tr>\n",
       "    <tr>\n",
       "      <th>88713</th>\n",
       "      <td>2020</td>\n",
       "      <td>14.545208</td>\n",
       "      <td>1228.672539</td>\n",
       "      <td>-667.063665</td>\n",
       "    </tr>\n",
       "    <tr>\n",
       "      <th>88714</th>\n",
       "      <td>2020</td>\n",
       "      <td>7.050837</td>\n",
       "      <td>1233.183553</td>\n",
       "      <td>-673.066358</td>\n",
       "    </tr>\n",
       "    <tr>\n",
       "      <th>88715</th>\n",
       "      <td>2020</td>\n",
       "      <td>9.342668</td>\n",
       "      <td>1232.945876</td>\n",
       "      <td>-671.801604</td>\n",
       "    </tr>\n",
       "    <tr>\n",
       "      <th>88716</th>\n",
       "      <td>2020</td>\n",
       "      <td>0.996962</td>\n",
       "      <td>705.226231</td>\n",
       "      <td>-412.114634</td>\n",
       "    </tr>\n",
       "  </tbody>\n",
       "</table>\n",
       "</div>"
      ],
      "text/plain": [
       "       Fire_Year  GIS_Acres     Distance   smoke est\n",
       "88707       2020  41.871856  1247.496900 -662.812522\n",
       "88708       2020  24.718981   906.982697 -501.131858\n",
       "88709       2020  21.264195  1247.131201 -672.933503\n",
       "88710       2020  20.327632  1230.053129 -664.862748\n",
       "88711       2020  16.737098  1235.352392 -669.307647\n",
       "88712       2020  60.879054  1231.107734 -645.114340\n",
       "88713       2020  14.545208  1228.672539 -667.063665\n",
       "88714       2020   7.050837  1233.183553 -673.066358\n",
       "88715       2020   9.342668  1232.945876 -671.801604\n",
       "88716       2020   0.996962   705.226231 -412.114634"
      ]
     },
     "execution_count": 5,
     "metadata": {},
     "output_type": "execute_result"
    }
   ],
   "source": [
    "smoke_est_df['smoke est'] = smoke_est_df['GIS_Acres']*0.5 + smoke_est_df['Distance']*(-0.5)\n",
    "smoke_est_df['smoke est'] -= (2023 - smoke_est_df['Fire_Year'])*20\n",
    "smoke_est_df.tail(10)"
   ]
  },
  {
   "cell_type": "markdown",
   "metadata": {},
   "source": [
    "The smoke estimate above has negative values for wildfires that have smaller impact, ie far away from the city. I decided to re-scale them to avoid errors."
   ]
  },
  {
   "cell_type": "code",
   "execution_count": 6,
   "metadata": {},
   "outputs": [
    {
     "name": "stdout",
     "output_type": "stream",
     "text": [
      "   Fire_Year     GIS_Acres     Distance     smoke est  scaled_smoke_est\n",
      "0       1964  65338.877636  1209.999515  30884.439060        208.179756\n",
      "1       1964  19218.105903  1085.994951   7886.055476         61.612943\n",
      "2       1964  14101.443662   675.192860   5533.125401         46.617913\n",
      "3       1964  11365.328284  1142.017477   3931.655404         36.411876\n",
      "4       1964  11131.171732  1063.369261   3853.901235         35.916355\n"
     ]
    }
   ],
   "source": [
    "from sklearn.preprocessing import MinMaxScaler\n",
    "\n",
    "\n",
    "scaler = MinMaxScaler(feature_range=(0, 5000))\n",
    "\n",
    "smoke_est_df['scaled_smoke_est'] = scaler.fit_transform(smoke_est_df[['smoke est']].values)\n",
    "\n",
    "print(smoke_est_df.head())\n"
   ]
  },
  {
   "cell_type": "code",
   "execution_count": 17,
   "metadata": {},
   "outputs": [
    {
     "data": {
      "image/png": "[encoded data removed]",
      "text/plain": [
       "<Figure size 720x432 with 1 Axes>"
      ]
     },
     "metadata": {
      "needs_background": "light"
     },
     "output_type": "display_data"
    }
   ],
   "source": [
    "import matplotlib.pyplot as plt\n",
    "\n",
    "# Assuming your DataFrame is named df\n",
    "# Calculate the average smoke est over each year\n",
    "average_smoke_est = smoke_est_df.groupby('Fire_Year')['scaled_smoke_est'].mean()\n",
    "\n",
    "plt.figure(figsize=(10, 6))\n",
    "plt.plot(average_smoke_est.index, average_smoke_est.values, marker='o', linestyle='--', color='b')\n",
    "\n",
    "plt.title('Average Smoke Estimation Over Years')\n",
    "plt.xlabel('Fire Year')\n",
    "plt.ylabel('Average Smoke Estimation')\n",
    "\n",
    "plt.show()"
   ]
  },
  {
   "cell_type": "markdown",
   "metadata": {},
   "source": [
    "## Smoke Estimate Prediction"
   ]
  },
  {
   "cell_type": "markdown",
   "metadata": {},
   "source": [
    "Given the trend exhibited in the data, linear regression is appropriate for this prediction because it assumes a linear relationship between the independent variable (Fire_Year) and the dependent variable (scaled_smoke_est)."
   ]
  },
  {
   "cell_type": "code",
   "execution_count": 24,
   "metadata": {},
   "outputs": [
    {
     "data": {
      "text/html": [
       "<div>\n",
       "<style scoped>\n",
       "    .dataframe tbody tr th:only-of-type {\n",
       "        vertical-align: middle;\n",
       "    }\n",
       "\n",
       "    .dataframe tbody tr th {\n",
       "        vertical-align: top;\n",
       "    }\n",
       "\n",
       "    .dataframe thead th {\n",
       "        text-align: right;\n",
       "    }\n",
       "</style>\n",
       "<table border=\"1\" class=\"dataframe\">\n",
       "  <thead>\n",
       "    <tr style=\"text-align: right;\">\n",
       "      <th></th>\n",
       "      <th>Fire_Year</th>\n",
       "      <th>scaled_smoke_est</th>\n",
       "    </tr>\n",
       "  </thead>\n",
       "  <tbody>\n",
       "    <tr>\n",
       "      <th>52</th>\n",
       "      <td>2016</td>\n",
       "      <td>13.313792</td>\n",
       "    </tr>\n",
       "    <tr>\n",
       "      <th>53</th>\n",
       "      <td>2017</td>\n",
       "      <td>16.079692</td>\n",
       "    </tr>\n",
       "    <tr>\n",
       "      <th>54</th>\n",
       "      <td>2018</td>\n",
       "      <td>14.184947</td>\n",
       "    </tr>\n",
       "    <tr>\n",
       "      <th>55</th>\n",
       "      <td>2019</td>\n",
       "      <td>10.929175</td>\n",
       "    </tr>\n",
       "    <tr>\n",
       "      <th>56</th>\n",
       "      <td>2020</td>\n",
       "      <td>12.550862</td>\n",
       "    </tr>\n",
       "  </tbody>\n",
       "</table>\n",
       "</div>"
      ],
      "text/plain": [
       "    Fire_Year  scaled_smoke_est\n",
       "52       2016         13.313792\n",
       "53       2017         16.079692\n",
       "54       2018         14.184947\n",
       "55       2019         10.929175\n",
       "56       2020         12.550862"
      ]
     },
     "execution_count": 24,
     "metadata": {},
     "output_type": "execute_result"
    }
   ],
   "source": [
    "smoke_est_per_year = smoke_est_df.groupby('Fire_Year')['scaled_smoke_est'].mean().reset_index()\n",
    "smoke_est_per_year.tail()"
   ]
  },
  {
   "cell_type": "code",
   "execution_count": 25,
   "metadata": {},
   "outputs": [
    {
     "name": "stdout",
     "output_type": "stream",
     "text": [
      "    Year  Smoke_est\n",
      "0   2024  15.837151\n",
      "1   2025  16.041758\n",
      "2   2026  16.246365\n",
      "3   2027  16.450972\n",
      "4   2028  16.655579\n",
      "5   2029  16.860187\n",
      "6   2030  17.064794\n",
      "7   2031  17.269401\n",
      "8   2032  17.474008\n",
      "9   2033  17.678615\n",
      "10  2034  17.883222\n",
      "11  2035  18.087830\n",
      "12  2036  18.292437\n",
      "13  2037  18.497044\n",
      "14  2038  18.701651\n",
      "15  2039  18.906258\n",
      "16  2040  19.110865\n",
      "17  2041  19.315472\n",
      "18  2042  19.520080\n",
      "19  2043  19.724687\n",
      "20  2044  19.929294\n",
      "21  2045  20.133901\n",
      "22  2046  20.338508\n",
      "23  2047  20.543115\n",
      "24  2048  20.747722\n",
      "25  2049  20.952330\n"
     ]
    }
   ],
   "source": [
    "from sklearn.linear_model import LinearRegression\n",
    "import numpy as np\n",
    "\n",
    "df = pd.DataFrame(smoke_est_per_year)\n",
    "\n",
    "X = df['Fire_Year'].values.reshape(-1, 1)\n",
    "y = df['scaled_smoke_est'].values\n",
    "\n",
    "model = LinearRegression()\n",
    "model.fit(X, y)\n",
    "\n",
    "# Predict for the next 25 years\n",
    "future_years = np.array(range(2024, 2050)).reshape(-1, 1)\n",
    "predicted_values = model.predict(future_years)\n",
    "\n",
    "# Create a DataFrame for the predicted values\n",
    "predicted_df = pd.DataFrame({'Year': range(2024, 2050), 'Smoke_est': predicted_values})\n",
    "print(predicted_df)"
   ]
  },
  {
   "cell_type": "markdown",
   "metadata": {},
   "source": [
    "## Visualization: Wildfire Occurance by Distance\n",
    "Histogram showing the number of fires occurring every 50 mile distance from Lawton city up to the max specified distance."
   ]
  },
  {
   "cell_type": "code",
   "execution_count": 27,
   "metadata": {},
   "outputs": [
    {
     "data": {
      "image/png": "[encoded data removed]",
      "text/plain": [
       "<Figure size 864x432 with 1 Axes>"
      ]
     },
     "metadata": {
      "needs_background": "light"
     },
     "output_type": "display_data"
    }
   ],
   "source": [
    "from matplotlib import pyplot as plt\n",
    "\n",
    "\n",
    "max_distance = smoke_est_df['Distance'].max()\n",
    "\n",
    "# Determine the number of bins by dividing the max distance by 50\n",
    "num_bins = int(max_distance // 50) + (max_distance % 50 > 0)\n",
    "\n",
    "plt.figure(figsize=(12, 6))\n",
    "plt.hist(smoke_est_df['Distance'], bins=num_bins, range=(0, max_distance), rwidth=0.8)\n",
    "\n",
    "plt.xlabel('Distance from Lawton (miles)')\n",
    "plt.ylabel('Number of Wildfires')\n",
    "\n",
    "plt.show()"
   ]
  },
  {
   "cell_type": "markdown",
   "metadata": {},
   "source": [
    "## Visualization: Acres Burned by Year\n",
    "Time series graph of total acres burned per year for the fires occurring in the specified distance from Lawton city."
   ]
  },
  {
   "cell_type": "code",
   "execution_count": 14,
   "metadata": {},
   "outputs": [
    {
     "data": {
      "image/png": "[encoded data removed]",
      "text/plain": [
       "<Figure size 864x432 with 1 Axes>"
      ]
     },
     "metadata": {
      "needs_background": "light"
     },
     "output_type": "display_data"
    }
   ],
   "source": [
    "# Group by 'Fire_Year' and sum 'GIS_Acres' to get the total acres burned per year\n",
    "acres_per_year = smoke_est_df.groupby('Fire_Year')['GIS_Acres'].sum().reset_index()\n",
    "\n",
    "plt.figure(figsize=(12, 6))\n",
    "plt.plot(acres_per_year['Fire_Year'], acres_per_year['GIS_Acres'], marker='o')\n",
    "\n",
    "plt.title('Total Acres Burned per Year')\n",
    "plt.xlabel('Year')\n",
    "plt.ylabel('Total Acres Burned')\n",
    "\n",
    "plt.show()"
   ]
  },
  {
   "cell_type": "markdown",
   "metadata": {},
   "source": [
    "## Visualization: Compare Smoke Estimate with AQI\n",
    "Time series graph containing your fire smoke estimate for your city and the AQI estimate for Lawton city."
   ]
  },
  {
   "cell_type": "code",
   "execution_count": 18,
   "metadata": {},
   "outputs": [
    {
     "data": {
      "image/png": "[encoded data removed]",
      "text/plain": [
       "<Figure size 864x432 with 1 Axes>"
      ]
     },
     "metadata": {
      "needs_background": "light"
     },
     "output_type": "display_data"
    }
   ],
   "source": [
    "aqi_df = pd.read_csv('yearly_aqi.csv')\n",
    "\n",
    "\n",
    "smoke_df = smoke_est_df.groupby('Fire_Year')['scaled_smoke_est'].mean().reset_index()\n",
    "\n",
    "df_merged = pd.merge(smoke_df, aqi_df, how='left', left_on='Fire_Year', right_on='year')\n",
    "\n",
    "plt.figure(figsize=(12, 6))\n",
    "\n",
    "plt.plot(df_merged['Fire_Year'], df_merged['scaled_smoke_est'], label='Smoke Estimate', marker='o')\n",
    "plt.plot(df_merged['Fire_Year'], df_merged['aqi'], label='AQI', marker='s')\n",
    "\n",
    "\n",
    "plt.xlabel('Year')\n",
    "plt.ylabel('Estimate/AQI')\n",
    "\n",
    "plt.legend()\n",
    "plt.show()"
   ]
  }
 ],
 "metadata": {
  "kernelspec": {
   "display_name": "Python 3 (ipykernel)",
   "language": "python",
   "name": "python3"
  },
  "language_info": {
   "codemirror_mode": {
    "name": "ipython",
    "version": 3
   },
   "file_extension": ".py",
   "mimetype": "text/x-python",
   "name": "python",
   "nbconvert_exporter": "python",
   "pygments_lexer": "ipython3",
   "version": "3.9.12"
  }
 },
 "nbformat": 4,
 "nbformat_minor": 4
}
